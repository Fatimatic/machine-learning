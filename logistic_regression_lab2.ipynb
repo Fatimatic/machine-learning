{
  "nbformat": 4,
  "nbformat_minor": 0,
  "metadata": {
    "colab": {
      "provenance": [],
      "authorship_tag": "ABX9TyMjUsC+Qpobp9+2jDNDnAfC",
      "include_colab_link": true
    },
    "kernelspec": {
      "name": "python3",
      "display_name": "Python 3"
    },
    "language_info": {
      "name": "python"
    }
  },
  "cells": [
    {
      "cell_type": "markdown",
      "metadata": {
        "id": "view-in-github",
        "colab_type": "text"
      },
      "source": [
        "<a href=\"https://colab.research.google.com/github/Fatimatic/machine-learning/blob/main/logistic_regression_lab2.ipynb\" target=\"_parent\"><img src=\"https://colab.research.google.com/assets/colab-badge.svg\" alt=\"Open In Colab\"/></a>"
      ]
    },
    {
      "cell_type": "code",
      "execution_count": 23,
      "metadata": {
        "id": "-kI4EsF1Jzsy"
      },
      "outputs": [],
      "source": [
        "import numpy as np\n",
        "import matplotlib.pyplot as plt\n",
        "\n",
        "\n",
        "x_train = np.array([1.0, 1.7, 2.0, 2.5, 3.0, 3.2])\n",
        "y_train = np.array([250, 300, 480,  430, 630, 730])\n",
        "\n",
        "# calculating cost function\n",
        "\n",
        "def compute_cost(w,x,y,b):\n",
        "  m = x.shape[0] # Get the number of training examples\n",
        "  cost_sum = 0 # Initialize cost_sum\n",
        "\n",
        "  for i in range (m):\n",
        "    f_wb = w* x[i] +b\n",
        "    cost = ( f_wb - y[i] )**2 # Calculate cost for each example\n",
        "    cost_sum= cost_sum + cost\n",
        "\n",
        "  total_cost= (1/(2*m))* cost_sum\n",
        "\n",
        "  return total_cost\n",
        "\n",
        "\n",
        "# We want values of w and b such that the cost function is minimum. The cost function is ideally minimum at zero where the predicted value f_wb and the actual value/target y are same so cost function is zero. In our training data all the points do not lie on the same line, so minimum cost function isn't zero.\n",
        "#The fact that the cost function squares the loss ensures that the 'error surface' is convex like a soup bowl. It will always have a minimum that can be reached by following the gradient in all dimensions."
      ]
    }
  ]
}